{
 "cells": [
  {
   "cell_type": "code",
   "execution_count": 22,
   "metadata": {},
   "outputs": [],
   "source": [
    "import matplotlib.pyplot as plt\n",
    "import numpy as np\n",
    "import pandas as pd\n",
    "import networkx as nx\n",
    "%matplotlib widget"
   ]
  },
  {
   "cell_type": "code",
   "execution_count": null,
   "metadata": {},
   "outputs": [
    {
     "name": "stdout",
     "output_type": "stream",
     "text": [
      "Number of nodes: 10000\n",
      "Number of edges: 66159\n"
     ]
    }
   ],
   "source": [
    "import networkx as nx\n",
    "import numpy as np\n",
    "\n",
    "def generate_balanced_degree_sequences(n_nodes, gamma_in, gamma_out):\n",
    "    \"\"\"\n",
    "    Generate in-degree and out-degree sequences for a directed graph \n",
    "    such that their sums are equal.\n",
    "    \"\"\"\n",
    "    # Generate power-law degree sequences\n",
    "    in_degrees = np.random.zipf(gamma_in, n_nodes)\n",
    "    out_degrees = np.random.zipf(gamma_out, n_nodes)\n",
    "\n",
    "    # Adjust sequences to ensure equal sums\n",
    "    scale_factor = sum(out_degrees) / sum(in_degrees)\n",
    "    in_degrees = np.round(in_degrees * scale_factor).astype(int)\n",
    "\n",
    "    # Handle any rounding issues to ensure exact equality\n",
    "    diff = sum(out_degrees) - sum(in_degrees)\n",
    "    if diff > 0:\n",
    "        in_degrees[np.random.choice(n_nodes, diff, replace=False)] += 1\n",
    "    elif diff < 0:\n",
    "        indices = np.where(in_degrees > 1)[0]  # Avoid negative degrees\n",
    "        in_degrees[np.random.choice(indices, -diff, replace=False)] -= 1\n",
    "\n",
    "    return in_degrees, out_degrees\n",
    "\n",
    "def create_directed_graph(n_nodes, gamma_in, gamma_out):\n",
    "    \"\"\"\n",
    "    Create a directed graph using the configuration model with \n",
    "    balanced in-degree and out-degree sequences.\n",
    "    \"\"\"\n",
    "    in_degrees, out_degrees = generate_balanced_degree_sequences(n_nodes, gamma_in, gamma_out)\n",
    "    \n",
    "    # Use the directed configuration model to generate the graph\n",
    "    G = nx.directed_configuration_model(in_degrees, out_degrees, create_using=nx.DiGraph)\n",
    "    \n",
    "    # Remove self-loops\n",
    "    G.remove_edges_from(nx.selfloop_edges(G))\n",
    "    \n",
    "    return G\n",
    "\n",
    "# Example usage\n",
    "n_nodes = 10000\n",
    "gamma_in = 2.3  # Power-law exponent for in-degree\n",
    "gamma_out = 2.0  # Power-law exponent for out-degree\n",
    "\n",
    "# Create the graph\n",
    "G = create_directed_graph(n_nodes, gamma_in, gamma_out)\n",
    "nx.write_edgelist(G, \"test.edgelist\")\n",
    "# Analyze the graph\n",
    "print(f\"Number of nodes: {G.number_of_nodes()}\")\n",
    "print(f\"Number of edges: {G.number_of_edges()}\")\n"
   ]
  },
  {
   "cell_type": "markdown",
   "metadata": {},
   "source": []
  }
 ],
 "metadata": {
  "kernelspec": {
   "display_name": "Python 3",
   "language": "python",
   "name": "python3"
  },
  "language_info": {
   "codemirror_mode": {
    "name": "ipython",
    "version": 3
   },
   "file_extension": ".py",
   "mimetype": "text/x-python",
   "name": "python",
   "nbconvert_exporter": "python",
   "pygments_lexer": "ipython3",
   "version": "3.12.1"
  }
 },
 "nbformat": 4,
 "nbformat_minor": 2
}
