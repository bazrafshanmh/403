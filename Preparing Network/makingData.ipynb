{
 "cells": [
  {
   "cell_type": "markdown",
   "metadata": {},
   "source": [
    "In The Name Of God"
   ]
  },
  {
   "cell_type": "code",
   "execution_count": 1,
   "metadata": {},
   "outputs": [],
   "source": [
    "import pandas as pd\n",
    "import numpy as np\n",
    "import matplotlib.pyplot as plt\n",
    "import glob\n"
   ]
  },
  {
   "cell_type": "code",
   "execution_count": 37,
   "metadata": {},
   "outputs": [
    {
     "name": "stderr",
     "output_type": "stream",
     "text": [
      "<>:8: SyntaxWarning: invalid escape sequence '\\s'\n",
      "<>:8: SyntaxWarning: invalid escape sequence '\\s'\n",
      "/tmp/ipykernel_6926/3404639401.py:8: SyntaxWarning: invalid escape sequence '\\s'\n",
      "  content = pd.read_csv(file, sep='\\s+', names=[\"Following\", \"Follower\"])\n"
     ]
    }
   ],
   "source": [
    "file_pattern = \"pheme-rumour-scheme-dataset/threads/*/*/*/who-follows-whom.dat\"\n",
    "files = glob.glob(file_pattern)\n",
    "\n",
    "df=pd.DataFrame(columns=[\"Following\", \"Follower\"])\n",
    "\n",
    "for file in files:\n",
    "    \n",
    "    content = pd.read_csv(file, sep='\\s+', names=[\"Following\", \"Follower\"])\n",
    "    df = pd.concat([df, content], ignore_index=True)\n",
    "\n",
    "with pd.ExcelWriter(\"whofollowswhom.xlsx\") as writer:\n",
    "    df.to_excel(writer)\n",
    "    "
   ]
  },
  {
   "cell_type": "code",
   "execution_count": 38,
   "metadata": {},
   "outputs": [
    {
     "data": {
      "text/plain": [
       "97426"
      ]
     },
     "execution_count": 38,
     "metadata": {},
     "output_type": "execute_result"
    }
   ],
   "source": [
    "len(df)"
   ]
  }
 ],
 "metadata": {
  "kernelspec": {
   "display_name": "Python 3",
   "language": "python",
   "name": "python3"
  },
  "language_info": {
   "codemirror_mode": {
    "name": "ipython",
    "version": 3
   },
   "file_extension": ".py",
   "mimetype": "text/x-python",
   "name": "python",
   "nbconvert_exporter": "python",
   "pygments_lexer": "ipython3",
   "version": "3.12.1"
  }
 },
 "nbformat": 4,
 "nbformat_minor": 2
}
