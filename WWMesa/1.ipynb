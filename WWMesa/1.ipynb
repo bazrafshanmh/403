{
 "cells": [
  {
   "cell_type": "markdown",
   "metadata": {},
   "source": [
    "# IN THE NAME OF GOD"
   ]
  },
  {
   "cell_type": "code",
   "execution_count": 5,
   "metadata": {},
   "outputs": [],
   "source": [
    "import mesa\n",
    "\n",
    "# Data Visualization \n",
    "import seaborn as sns\n",
    "\n",
    "# Has multi-dimensional arrays and matrices. Has a large collection of\n",
    "# mathematical functions to operate on these arrays.\n",
    "import numpy as np\n",
    "\n",
    "# Data manipulation and analysis.\n",
    "import pandas as pd\n",
    "\n"
   ]
  },
  {
   "cell_type": "code",
   "execution_count": 9,
   "metadata": {},
   "outputs": [],
   "source": [
    "class MoneyAgent(mesa.Agent):\n",
    "    \n",
    "    def __init__(self, model):\n",
    "        super().__init__(model)\n",
    "        \n",
    "        self.wealth = 1\n",
    "    def say_hi(self):\n",
    "        print(f\"Hi I'm an agent, You can call me {str(self.unique_id)}!\")\n"
   ]
  },
  {
   "cell_type": "code",
   "execution_count": 7,
   "metadata": {},
   "outputs": [],
   "source": [
    "class MoneyModel(mesa.Model):\n",
    "    \n",
    "    def __init__(self, n, seed=None):\n",
    "        super().__init__(seed=seed)\n",
    "        self.num_agents = n\n",
    "        \n",
    "        for _ in range(self.num_agents):\n",
    "            a = MoneyAgent(self)\n",
    "\n",
    "    def step(self):\n",
    "        self.agents.shuffle_do(\"say_hi\")"
   ]
  },
  {
   "cell_type": "code",
   "execution_count": 14,
   "metadata": {},
   "outputs": [
    {
     "name": "stdout",
     "output_type": "stream",
     "text": [
      "Hi I'm an agent, You can call me 6!\n",
      "Hi I'm an agent, You can call me 4!\n",
      "Hi I'm an agent, You can call me 7!\n",
      "Hi I'm an agent, You can call me 2!\n",
      "Hi I'm an agent, You can call me 9!\n",
      "Hi I'm an agent, You can call me 1!\n",
      "Hi I'm an agent, You can call me 8!\n",
      "Hi I'm an agent, You can call me 5!\n",
      "Hi I'm an agent, You can call me 10!\n",
      "Hi I'm an agent, You can call me 3!\n"
     ]
    }
   ],
   "source": [
    "model = MoneyModel(10)\n",
    "model.step()"
   ]
  }
 ],
 "metadata": {
  "kernelspec": {
   "display_name": "Python 3",
   "language": "python",
   "name": "python3"
  },
  "language_info": {
   "codemirror_mode": {
    "name": "ipython",
    "version": 3
   },
   "file_extension": ".py",
   "mimetype": "text/x-python",
   "name": "python",
   "nbconvert_exporter": "python",
   "pygments_lexer": "ipython3",
   "version": "3.12.1"
  }
 },
 "nbformat": 4,
 "nbformat_minor": 2
}
